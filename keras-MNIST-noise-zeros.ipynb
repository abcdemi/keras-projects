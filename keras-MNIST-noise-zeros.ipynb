{
 "cells": [
  {
   "cell_type": "code",
   "execution_count": 1,
   "id": "9e1cf5de",
   "metadata": {},
   "outputs": [],
   "source": [
    "from tensorflow.keras.datasets import mnist\n",
    "import numpy as np"
   ]
  },
  {
   "cell_type": "code",
   "execution_count": 2,
   "id": "8c97e891",
   "metadata": {},
   "outputs": [],
   "source": [
    "(train_images, train_labels), _ = mnist.load_data()\n",
    "train_images = train_images.reshape((60000, 28 * 28))\n",
    "train_images = train_images.astype(\"float32\") / 255"
   ]
  },
  {
   "cell_type": "code",
   "execution_count": 3,
   "id": "ce175f0e",
   "metadata": {},
   "outputs": [],
   "source": [
    "train_images_with_noise = np.concatenate([train_images, np.random.random((len(train_images), 784))], axis=1)"
   ]
  },
  {
   "cell_type": "code",
   "execution_count": 4,
   "id": "4189615c",
   "metadata": {},
   "outputs": [],
   "source": [
    "train_images_with_zeros = np.concatenate([train_images, np.zeros((len(train_images), 784))], axis=1)"
   ]
  },
  {
   "cell_type": "code",
   "execution_count": 5,
   "id": "2acd5172",
   "metadata": {},
   "outputs": [],
   "source": [
    "from tensorflow import keras\n",
    "from tensorflow.keras import models, layers"
   ]
  },
  {
   "cell_type": "code",
   "execution_count": 8,
   "id": "a457fecd",
   "metadata": {},
   "outputs": [],
   "source": [
    "def get_model():\n",
    "    model = keras.Sequential([\n",
    "        layers.Dense(512, activation=\"relu\"),\n",
    "        layers.Dense(10, activation=\"softmax\")\n",
    "    ]\n",
    "    )\n",
    "    model.compile(optimizer=\"rmsprop\",\n",
    "                 loss=\"sparse_categorical_crossentropy\",\n",
    "                 metrics=[\"accuracy\"])\n",
    "    return model"
   ]
  },
  {
   "cell_type": "code",
   "execution_count": 9,
   "id": "89513428",
   "metadata": {},
   "outputs": [
    {
     "name": "stdout",
     "output_type": "stream",
     "text": [
      "Epoch 1/10\n",
      "375/375 [==============================] - 3s 6ms/step - loss: 0.6053 - accuracy: 0.8128 - val_loss: 0.3086 - val_accuracy: 0.8964\n",
      "Epoch 2/10\n",
      "375/375 [==============================] - 2s 6ms/step - loss: 0.2512 - accuracy: 0.9224 - val_loss: 0.1962 - val_accuracy: 0.9423\n",
      "Epoch 3/10\n",
      "375/375 [==============================] - 2s 6ms/step - loss: 0.1641 - accuracy: 0.9485 - val_loss: 0.1376 - val_accuracy: 0.9602\n",
      "Epoch 4/10\n",
      "375/375 [==============================] - 2s 6ms/step - loss: 0.1180 - accuracy: 0.9636 - val_loss: 0.1441 - val_accuracy: 0.9561\n",
      "Epoch 5/10\n",
      "375/375 [==============================] - 2s 6ms/step - loss: 0.0857 - accuracy: 0.9732 - val_loss: 0.1693 - val_accuracy: 0.9535\n",
      "Epoch 6/10\n",
      "375/375 [==============================] - 2s 6ms/step - loss: 0.0633 - accuracy: 0.9803 - val_loss: 0.1413 - val_accuracy: 0.9596\n",
      "Epoch 7/10\n",
      "375/375 [==============================] - 2s 6ms/step - loss: 0.0480 - accuracy: 0.9841 - val_loss: 0.1296 - val_accuracy: 0.9663\n",
      "Epoch 8/10\n",
      "375/375 [==============================] - 2s 6ms/step - loss: 0.0370 - accuracy: 0.9883 - val_loss: 0.1300 - val_accuracy: 0.9653\n",
      "Epoch 9/10\n",
      "375/375 [==============================] - 2s 6ms/step - loss: 0.0274 - accuracy: 0.9908 - val_loss: 0.2287 - val_accuracy: 0.9435\n",
      "Epoch 10/10\n",
      "375/375 [==============================] - 2s 6ms/step - loss: 0.0228 - accuracy: 0.9926 - val_loss: 0.1485 - val_accuracy: 0.9647\n",
      "Epoch 1/10\n",
      "375/375 [==============================] - 3s 6ms/step - loss: 0.2886 - accuracy: 0.9169 - val_loss: 0.1527 - val_accuracy: 0.9567\n",
      "Epoch 2/10\n",
      "375/375 [==============================] - 2s 6ms/step - loss: 0.1189 - accuracy: 0.9641 - val_loss: 0.1059 - val_accuracy: 0.9691\n",
      "Epoch 3/10\n",
      "375/375 [==============================] - 2s 6ms/step - loss: 0.0782 - accuracy: 0.9767 - val_loss: 0.1026 - val_accuracy: 0.9685\n",
      "Epoch 4/10\n",
      "375/375 [==============================] - 2s 6ms/step - loss: 0.0566 - accuracy: 0.9834 - val_loss: 0.0845 - val_accuracy: 0.9743\n",
      "Epoch 5/10\n",
      "375/375 [==============================] - 2s 6ms/step - loss: 0.0420 - accuracy: 0.9875 - val_loss: 0.0839 - val_accuracy: 0.9758\n",
      "Epoch 6/10\n",
      "375/375 [==============================] - 2s 6ms/step - loss: 0.0319 - accuracy: 0.9906 - val_loss: 0.0867 - val_accuracy: 0.9771\n",
      "Epoch 7/10\n",
      "375/375 [==============================] - 2s 6ms/step - loss: 0.0242 - accuracy: 0.9930 - val_loss: 0.0850 - val_accuracy: 0.9771\n",
      "Epoch 8/10\n",
      "375/375 [==============================] - 2s 6ms/step - loss: 0.0186 - accuracy: 0.9947 - val_loss: 0.0831 - val_accuracy: 0.9785\n",
      "Epoch 9/10\n",
      "375/375 [==============================] - 2s 6ms/step - loss: 0.0148 - accuracy: 0.9960 - val_loss: 0.0873 - val_accuracy: 0.9785\n",
      "Epoch 10/10\n",
      "375/375 [==============================] - 2s 6ms/step - loss: 0.0108 - accuracy: 0.9967 - val_loss: 0.0933 - val_accuracy: 0.9776\n"
     ]
    }
   ],
   "source": [
    "model = get_model()\n",
    "history_noise = model.fit(train_images_with_noise, train_labels, epochs=10, batch_size=128, validation_split=0.2)\n",
    "\n",
    "model = get_model()\n",
    "history_zeros = model.fit(train_images_with_zeros, train_labels, epochs=10, batch_size=128, validation_split=0.2)"
   ]
  },
  {
   "cell_type": "code",
   "execution_count": 10,
   "id": "f57ff18e",
   "metadata": {},
   "outputs": [
    {
     "data": {
      "text/plain": [
       "<matplotlib.legend.Legend at 0x1ee4004d820>"
      ]
     },
     "execution_count": 10,
     "metadata": {},
     "output_type": "execute_result"
    },
    {
     "data": {
      "image/png": "[encoded data removed]",
      "text/plain": [
       "<Figure size 432x288 with 1 Axes>"
      ]
     },
     "metadata": {
      "needs_background": "light"
     },
     "output_type": "display_data"
    }
   ],
   "source": [
    "import matplotlib.pyplot as plt\n",
    "val_acc_noise = history_noise.history[\"val_accuracy\"]\n",
    "val_acc_zeros = history_zeros.history[\"val_accuracy\"]\n",
    "epochs = range(1, 11)\n",
    "plt.plot(epochs, val_acc_noise, \"b-\", label=\"Validation accuracy with noise\")\n",
    "plt.plot(epochs, val_acc_zeros, \"b--\", label=\"Validation accuracy with zeros\")\n",
    "plt.title(\"Effect of noise\")\n",
    "plt.xlabel(\"Epochs\")\n",
    "plt.ylabel(\"Accuracy\")\n",
    "plt.legend()"
   ]
  },
  {
   "cell_type": "code",
   "execution_count": null,
   "id": "799292b4",
   "metadata": {},
   "outputs": [],
   "source": []
  }
 ],
 "metadata": {
  "kernelspec": {
   "display_name": "Python 3 (ipykernel)",
   "language": "python",
   "name": "python3"
  },
  "language_info": {
   "codemirror_mode": {
    "name": "ipython",
    "version": 3
   },
   "file_extension": ".py",
   "mimetype": "text/x-python",
   "name": "python",
   "nbconvert_exporter": "python",
   "pygments_lexer": "ipython3",
   "version": "3.9.7"
  }
 },
 "nbformat": 4,
 "nbformat_minor": 5
}
