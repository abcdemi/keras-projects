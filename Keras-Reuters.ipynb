{
 "cells": [
  {
   "cell_type": "code",
   "execution_count": 11,
   "id": "c0e004ad",
   "metadata": {},
   "outputs": [],
   "source": [
    "from keras.datasets import reuters\n",
    "(train_data, train_labels), (test_data, test_labels) = reuters.load_data(num_words=10000)"
   ]
  },
  {
   "cell_type": "code",
   "execution_count": 12,
   "id": "65f8c0a8",
   "metadata": {},
   "outputs": [],
   "source": [
    "def vectorize_sequences(sequences, dimension=10000):\n",
    "    results = np.zeros((len(sequences), dimension))\n",
    "    for i, sequence in enumerate(sequences):\n",
    "        results[i, sequence] = 1.\n",
    "    return results"
   ]
  },
  {
   "cell_type": "code",
   "execution_count": 13,
   "id": "b2070bf6",
   "metadata": {},
   "outputs": [],
   "source": [
    "import numpy as np\n",
    "\n",
    "x_train = vectorize_sequences(train_data)\n",
    "x_test = vectorize_sequences(test_data)"
   ]
  },
  {
   "cell_type": "code",
   "execution_count": 14,
   "id": "0683b7ec",
   "metadata": {},
   "outputs": [],
   "source": [
    "from keras.utils.np_utils import to_categorical"
   ]
  },
  {
   "cell_type": "code",
   "execution_count": 15,
   "id": "a68e0f07",
   "metadata": {},
   "outputs": [],
   "source": [
    "one_hot_train_labels = to_categorical(train_labels)\n",
    "one_hot_test_labels = to_categorical(test_labels)"
   ]
  },
  {
   "cell_type": "code",
   "execution_count": 16,
   "id": "0da5c387",
   "metadata": {},
   "outputs": [],
   "source": [
    "from keras import models\n",
    "from keras import layers"
   ]
  },
  {
   "cell_type": "code",
   "execution_count": 19,
   "id": "b1d465dd",
   "metadata": {},
   "outputs": [],
   "source": [
    "model = models.Sequential([layers.Dense(64, activation=\"relu\"), layers.Dense(64, activation=\"relu\"),\n",
    "                         layers.Dense(46, activation=\"softmax\")])"
   ]
  },
  {
   "cell_type": "code",
   "execution_count": 20,
   "id": "0d21b355",
   "metadata": {},
   "outputs": [],
   "source": [
    "model.compile(optimizer=\"rmsprop\", loss=\"categorical_crossentropy\", metrics=[\"accuracy\"])"
   ]
  },
  {
   "cell_type": "code",
   "execution_count": 22,
   "id": "565dde6c",
   "metadata": {},
   "outputs": [],
   "source": [
    "from tensorflow.keras.utils import to_categorical\n",
    "\n",
    "y_train = to_categorical(train_labels)\n",
    "y_test = to_categorical(test_labels)"
   ]
  },
  {
   "cell_type": "code",
   "execution_count": 24,
   "id": "2e700f13",
   "metadata": {},
   "outputs": [],
   "source": [
    "x_val = x_train[:1000]\n",
    "partial_x_train = x_train[1000:]\n",
    "y_val = y_train[:1000]\n",
    "partial_y_train = y_train[1000:]"
   ]
  },
  {
   "cell_type": "code",
   "execution_count": 25,
   "id": "23b4dfa2",
   "metadata": {},
   "outputs": [
    {
     "name": "stdout",
     "output_type": "stream",
     "text": [
      "Epoch 1/20\n",
      "16/16 [==============================] - 1s 19ms/step - loss: 2.5350 - accuracy: 0.5313 - val_loss: 1.7002 - val_accuracy: 0.6370\n",
      "Epoch 2/20\n",
      "16/16 [==============================] - 0s 10ms/step - loss: 1.3779 - accuracy: 0.7063 - val_loss: 1.3017 - val_accuracy: 0.7050\n",
      "Epoch 3/20\n",
      "16/16 [==============================] - 0s 10ms/step - loss: 1.0137 - accuracy: 0.7848 - val_loss: 1.0994 - val_accuracy: 0.7620\n",
      "Epoch 4/20\n",
      "16/16 [==============================] - 0s 10ms/step - loss: 0.7932 - accuracy: 0.8354 - val_loss: 1.0376 - val_accuracy: 0.7690\n",
      "Epoch 5/20\n",
      "16/16 [==============================] - 0s 10ms/step - loss: 0.6280 - accuracy: 0.8687 - val_loss: 0.9676 - val_accuracy: 0.7890\n",
      "Epoch 6/20\n",
      "16/16 [==============================] - 0s 13ms/step - loss: 0.5031 - accuracy: 0.8956 - val_loss: 0.9253 - val_accuracy: 0.8010\n",
      "Epoch 7/20\n",
      "16/16 [==============================] - 0s 11ms/step - loss: 0.4028 - accuracy: 0.9133 - val_loss: 0.8865 - val_accuracy: 0.8110\n",
      "Epoch 8/20\n",
      "16/16 [==============================] - 0s 11ms/step - loss: 0.3296 - accuracy: 0.9287 - val_loss: 0.8983 - val_accuracy: 0.8100\n",
      "Epoch 9/20\n",
      "16/16 [==============================] - 0s 10ms/step - loss: 0.2765 - accuracy: 0.9370 - val_loss: 0.8868 - val_accuracy: 0.8120\n",
      "Epoch 10/20\n",
      "16/16 [==============================] - 0s 10ms/step - loss: 0.2335 - accuracy: 0.9465 - val_loss: 0.8990 - val_accuracy: 0.8090\n",
      "Epoch 11/20\n",
      "16/16 [==============================] - 0s 10ms/step - loss: 0.1994 - accuracy: 0.9514 - val_loss: 0.9239 - val_accuracy: 0.8130\n",
      "Epoch 12/20\n",
      "16/16 [==============================] - 0s 11ms/step - loss: 0.1783 - accuracy: 0.9513 - val_loss: 0.9529 - val_accuracy: 0.8060\n",
      "Epoch 13/20\n",
      "16/16 [==============================] - 0s 10ms/step - loss: 0.1632 - accuracy: 0.9544 - val_loss: 0.9357 - val_accuracy: 0.8180\n",
      "Epoch 14/20\n",
      "16/16 [==============================] - 0s 10ms/step - loss: 0.1482 - accuracy: 0.9545 - val_loss: 0.9682 - val_accuracy: 0.8120\n",
      "Epoch 15/20\n",
      "16/16 [==============================] - 0s 10ms/step - loss: 0.1352 - accuracy: 0.9550 - val_loss: 1.0388 - val_accuracy: 0.8000\n",
      "Epoch 16/20\n",
      "16/16 [==============================] - 0s 10ms/step - loss: 0.1309 - accuracy: 0.9574 - val_loss: 1.0918 - val_accuracy: 0.7920\n",
      "Epoch 17/20\n",
      "16/16 [==============================] - 0s 10ms/step - loss: 0.1198 - accuracy: 0.9565 - val_loss: 0.9980 - val_accuracy: 0.8120\n",
      "Epoch 18/20\n",
      "16/16 [==============================] - 0s 15ms/step - loss: 0.1196 - accuracy: 0.9565 - val_loss: 1.0202 - val_accuracy: 0.8050\n",
      "Epoch 19/20\n",
      "16/16 [==============================] - 0s 11ms/step - loss: 0.1116 - accuracy: 0.9585 - val_loss: 1.0893 - val_accuracy: 0.8040\n",
      "Epoch 20/20\n",
      "16/16 [==============================] - 0s 9ms/step - loss: 0.1090 - accuracy: 0.9583 - val_loss: 1.1443 - val_accuracy: 0.7870\n"
     ]
    }
   ],
   "source": [
    "history = model.fit(partial_x_train, partial_y_train, epochs=20, batch_size=512, validation_data=(x_val, y_val))"
   ]
  },
  {
   "cell_type": "code",
   "execution_count": 27,
   "id": "a8578480",
   "metadata": {},
   "outputs": [],
   "source": [
    "import matplotlib.pyplot as plt"
   ]
  },
  {
   "cell_type": "code",
   "execution_count": 28,
   "id": "efe376ad",
   "metadata": {},
   "outputs": [
    {
     "data": {
      "image/png": "[encoded data removed]",
      "text/plain": [
       "<Figure size 432x288 with 1 Axes>"
      ]
     },
     "metadata": {
      "needs_background": "light"
     },
     "output_type": "display_data"
    }
   ],
   "source": [
    "loss = history.history[\"loss\"]\n",
    "val_loss = history.history[\"val_loss\"]\n",
    "epochs = range(1, len(loss) + 1)\n",
    "plt.plot(epochs, loss, \"bo\", label=\"Training loss\")\n",
    "plt.plot(epochs, val_loss, \"b\", label=\"Validation loss\")\n",
    "plt.title(\"Training and validation loss\")\n",
    "plt.xlabel(\"Epochs\")\n",
    "plt.ylabel(\"Loss\")\n",
    "plt.legend()\n",
    "plt.show()"
   ]
  },
  {
   "cell_type": "code",
   "execution_count": 29,
   "id": "6423362b",
   "metadata": {},
   "outputs": [
    {
     "data": {
      "image/png": "[encoded data removed]",
      "text/plain": [
       "<Figure size 432x288 with 1 Axes>"
      ]
     },
     "metadata": {
      "needs_background": "light"
     },
     "output_type": "display_data"
    }
   ],
   "source": [
    "plt.clf()\n",
    "acc = history.history[\"accuracy\"]\n",
    "val_acc = history.history[\"val_accuracy\"]\n",
    "plt.plot(epochs, acc, \"bo\", label=\"Training accuracy\")\n",
    "plt.plot(epochs, val_acc, \"b\", label=\"Validation accuracy\")\n",
    "plt.title(\"Training and validation accuracy\")\n",
    "plt.xlabel(\"Epochs\")\n",
    "plt.ylabel(\"Accuracy\")\n",
    "plt.legend()\n",
    "plt.show()"
   ]
  },
  {
   "cell_type": "code",
   "execution_count": 30,
   "id": "43afde0c",
   "metadata": {},
   "outputs": [],
   "source": [
    "model = models.Sequential([layers.Dense(64, activation=\"relu\"), layers.Dense(64, activation=\"relu\"), layers.Dense(46, activation=\"softmax\")])"
   ]
  },
  {
   "cell_type": "code",
   "execution_count": 31,
   "id": "46b260f4",
   "metadata": {},
   "outputs": [],
   "source": [
    "model.compile(optimizer=\"rmsprop\", loss=\"categorical_crossentropy\", metrics=[\"accuracy\"])"
   ]
  },
  {
   "cell_type": "code",
   "execution_count": 32,
   "id": "41190787",
   "metadata": {},
   "outputs": [
    {
     "name": "stdout",
     "output_type": "stream",
     "text": [
      "Epoch 1/9\n",
      "18/18 [==============================] - 1s 9ms/step - loss: 2.5508 - accuracy: 0.5338\n",
      "Epoch 2/9\n",
      "18/18 [==============================] - 0s 8ms/step - loss: 1.3622 - accuracy: 0.7136\n",
      "Epoch 3/9\n",
      "18/18 [==============================] - 0s 9ms/step - loss: 0.9942 - accuracy: 0.7881\n",
      "Epoch 4/9\n",
      "18/18 [==============================] - 0s 8ms/step - loss: 0.7718 - accuracy: 0.8323\n",
      "Epoch 5/9\n",
      "18/18 [==============================] - 0s 8ms/step - loss: 0.6087 - accuracy: 0.8729\n",
      "Epoch 6/9\n",
      "18/18 [==============================] - 0s 9ms/step - loss: 0.4804 - accuracy: 0.9016\n",
      "Epoch 7/9\n",
      "18/18 [==============================] - 0s 11ms/step - loss: 0.3837 - accuracy: 0.9175\n",
      "Epoch 8/9\n",
      "18/18 [==============================] - 0s 9ms/step - loss: 0.3129 - accuracy: 0.9306\n",
      "Epoch 9/9\n",
      "18/18 [==============================] - 0s 8ms/step - loss: 0.2672 - accuracy: 0.9409\n",
      "71/71 [==============================] - 0s 903us/step - loss: 0.9515 - accuracy: 0.7903\n"
     ]
    }
   ],
   "source": [
    "model.fit(x_train, y_train, epochs=9, batch_size=512)\n",
    "results = model.evaluate(x_test, y_test)"
   ]
  },
  {
   "cell_type": "code",
   "execution_count": 33,
   "id": "fd019b6e",
   "metadata": {},
   "outputs": [
    {
     "data": {
      "text/plain": [
       "[0.9514866471290588, 0.7902938723564148]"
      ]
     },
     "execution_count": 33,
     "metadata": {},
     "output_type": "execute_result"
    }
   ],
   "source": [
    "results"
   ]
  },
  {
   "cell_type": "code",
   "execution_count": 34,
   "id": "2303924c",
   "metadata": {},
   "outputs": [
    {
     "data": {
      "text/plain": [
       "0.1803205699020481"
      ]
     },
     "execution_count": 34,
     "metadata": {},
     "output_type": "execute_result"
    }
   ],
   "source": [
    "import copy\n",
    "test_labels_copy = copy.copy(test_labels)\n",
    "np.random.shuffle(test_labels_copy)\n",
    "hits_array = np.array(test_labels) == np.array(test_labels_copy)\n",
    "hits_array.mean()"
   ]
  },
  {
   "cell_type": "code",
   "execution_count": 35,
   "id": "d6a8c94f",
   "metadata": {},
   "outputs": [],
   "source": [
    "predictions = model.predict(x_test)"
   ]
  },
  {
   "cell_type": "code",
   "execution_count": 37,
   "id": "957317d7",
   "metadata": {},
   "outputs": [],
   "source": [
    "y_train = np.array(train_labels)\n",
    "y_test = np.array(test_labels)"
   ]
  },
  {
   "cell_type": "code",
   "execution_count": 50,
   "id": "192ff154",
   "metadata": {},
   "outputs": [],
   "source": [
    "model = models.Sequential([\n",
    "    layers.Dense(64, activation='relu'),\n",
    "    layers.Dense(128, activation='relu'),\n",
    "    layers.Dense(46, activation='softmax')\n",
    "])"
   ]
  },
  {
   "cell_type": "code",
   "execution_count": 51,
   "id": "ba2fcfa6",
   "metadata": {},
   "outputs": [],
   "source": [
    "model.compile(optimizer='rmsprop', loss='categorical_crossentropy', metrics=['accuracy'])"
   ]
  },
  {
   "cell_type": "code",
   "execution_count": 56,
   "id": "1bffd12a",
   "metadata": {},
   "outputs": [
    {
     "name": "stdout",
     "output_type": "stream",
     "text": [
      "Epoch 1/20\n",
      "8/8 [==============================] - 0s 21ms/step - loss: 0.0491 - accuracy: 0.9649 - val_loss: 3.3082 - val_accuracy: 0.7710\n",
      "Epoch 2/20\n",
      "8/8 [==============================] - 0s 19ms/step - loss: 0.0492 - accuracy: 0.9648 - val_loss: 3.3153 - val_accuracy: 0.7760\n",
      "Epoch 3/20\n",
      "8/8 [==============================] - 0s 16ms/step - loss: 0.0492 - accuracy: 0.9630 - val_loss: 3.3159 - val_accuracy: 0.7700\n",
      "Epoch 4/20\n",
      "8/8 [==============================] - 0s 17ms/step - loss: 0.0497 - accuracy: 0.9639 - val_loss: 3.4245 - val_accuracy: 0.7710\n",
      "Epoch 5/20\n",
      "8/8 [==============================] - 0s 16ms/step - loss: 0.0501 - accuracy: 0.9639 - val_loss: 3.3438 - val_accuracy: 0.7700\n",
      "Epoch 6/20\n",
      "8/8 [==============================] - 0s 16ms/step - loss: 0.0499 - accuracy: 0.9609 - val_loss: 3.3909 - val_accuracy: 0.7680\n",
      "Epoch 7/20\n",
      "8/8 [==============================] - 0s 16ms/step - loss: 0.0505 - accuracy: 0.9607 - val_loss: 3.3877 - val_accuracy: 0.7730\n",
      "Epoch 8/20\n",
      "8/8 [==============================] - 0s 16ms/step - loss: 0.0503 - accuracy: 0.9620 - val_loss: 3.3533 - val_accuracy: 0.7760\n",
      "Epoch 9/20\n",
      "8/8 [==============================] - 0s 16ms/step - loss: 0.0499 - accuracy: 0.9615 - val_loss: 3.4285 - val_accuracy: 0.7720\n",
      "Epoch 10/20\n",
      "8/8 [==============================] - 0s 16ms/step - loss: 0.0502 - accuracy: 0.9612 - val_loss: 3.4600 - val_accuracy: 0.7700\n",
      "Epoch 11/20\n",
      "8/8 [==============================] - 0s 17ms/step - loss: 0.0501 - accuracy: 0.9620 - val_loss: 3.5299 - val_accuracy: 0.7680\n",
      "Epoch 12/20\n",
      "8/8 [==============================] - 0s 17ms/step - loss: 0.0499 - accuracy: 0.9617 - val_loss: 3.4848 - val_accuracy: 0.7690\n",
      "Epoch 13/20\n",
      "8/8 [==============================] - 0s 16ms/step - loss: 0.0498 - accuracy: 0.9619 - val_loss: 3.5761 - val_accuracy: 0.7680\n",
      "Epoch 14/20\n",
      "8/8 [==============================] - 0s 16ms/step - loss: 0.0496 - accuracy: 0.9614 - val_loss: 3.3968 - val_accuracy: 0.7760\n",
      "Epoch 15/20\n",
      "8/8 [==============================] - 0s 16ms/step - loss: 0.0495 - accuracy: 0.9622 - val_loss: 3.4962 - val_accuracy: 0.7750\n",
      "Epoch 16/20\n",
      "8/8 [==============================] - 0s 16ms/step - loss: 0.0497 - accuracy: 0.9630 - val_loss: 3.5329 - val_accuracy: 0.7770\n",
      "Epoch 17/20\n",
      "8/8 [==============================] - 0s 16ms/step - loss: 0.0496 - accuracy: 0.9607 - val_loss: 3.6088 - val_accuracy: 0.7710\n",
      "Epoch 18/20\n",
      "8/8 [==============================] - 0s 19ms/step - loss: 0.0501 - accuracy: 0.9599 - val_loss: 3.5495 - val_accuracy: 0.7680\n",
      "Epoch 19/20\n",
      "8/8 [==============================] - 0s 24ms/step - loss: 0.0491 - accuracy: 0.9639 - val_loss: 3.5348 - val_accuracy: 0.7700\n",
      "Epoch 20/20\n",
      "8/8 [==============================] - 0s 15ms/step - loss: 0.0497 - accuracy: 0.9609 - val_loss: 3.5429 - val_accuracy: 0.7680\n"
     ]
    },
    {
     "data": {
      "text/plain": [
       "<keras.callbacks.History at 0x2ab1254d5e0>"
      ]
     },
     "execution_count": 56,
     "metadata": {},
     "output_type": "execute_result"
    }
   ],
   "source": [
    "model.fit(partial_x_train, partial_y_train, epochs=20, batch_size=1024, validation_data=(x_val, y_val))"
   ]
  },
  {
   "cell_type": "code",
   "execution_count": null,
   "id": "fc1fc482",
   "metadata": {},
   "outputs": [],
   "source": []
  }
 ],
 "metadata": {
  "kernelspec": {
   "display_name": "Python 3 (ipykernel)",
   "language": "python",
   "name": "python3"
  },
  "language_info": {
   "codemirror_mode": {
    "name": "ipython",
    "version": 3
   },
   "file_extension": ".py",
   "mimetype": "text/x-python",
   "name": "python",
   "nbconvert_exporter": "python",
   "pygments_lexer": "ipython3",
   "version": "3.9.7"
  }
 },
 "nbformat": 4,
 "nbformat_minor": 5
}
