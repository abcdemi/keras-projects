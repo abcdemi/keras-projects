{
 "cells": [
  {
   "cell_type": "code",
   "execution_count": 5,
   "id": "104a1acb",
   "metadata": {},
   "outputs": [],
   "source": [
    "from tensorflow import keras\n",
    "from keras import layers, models"
   ]
  },
  {
   "cell_type": "code",
   "execution_count": 6,
   "id": "51f8e772",
   "metadata": {},
   "outputs": [
    {
     "name": "stdout",
     "output_type": "stream",
     "text": [
      "Downloading data from https://storage.googleapis.com/tensorflow/keras-applications/xception/xception_weights_tf_dim_ordering_tf_kernels_notop.h5\n",
      "83689472/83683744 [==============================] - 7s 0us/step\n",
      "83697664/83683744 [==============================] - 7s 0us/step\n",
      "block1_conv1\n",
      "block1_conv2\n",
      "block2_sepconv1\n",
      "block2_sepconv2\n",
      "conv2d\n",
      "block3_sepconv1\n",
      "block3_sepconv2\n",
      "conv2d_1\n",
      "block4_sepconv1\n",
      "block4_sepconv2\n",
      "conv2d_2\n",
      "block5_sepconv1\n",
      "block5_sepconv2\n",
      "block5_sepconv3\n",
      "block6_sepconv1\n",
      "block6_sepconv2\n",
      "block6_sepconv3\n",
      "block7_sepconv1\n",
      "block7_sepconv2\n",
      "block7_sepconv3\n",
      "block8_sepconv1\n",
      "block8_sepconv2\n",
      "block8_sepconv3\n",
      "block9_sepconv1\n",
      "block9_sepconv2\n",
      "block9_sepconv3\n",
      "block10_sepconv1\n",
      "block10_sepconv2\n",
      "block10_sepconv3\n",
      "block11_sepconv1\n",
      "block11_sepconv2\n",
      "block11_sepconv3\n",
      "block12_sepconv1\n",
      "block12_sepconv2\n",
      "block12_sepconv3\n",
      "block13_sepconv1\n",
      "block13_sepconv2\n",
      "conv2d_3\n",
      "block14_sepconv1\n",
      "block14_sepconv2\n"
     ]
    }
   ],
   "source": [
    "model = keras.applications.xception.Xception(weights=\"imagenet\", include_top=False)\n",
    "\n",
    "for layer in model.layers:\n",
    "    if isinstance(layer, (keras.layers.Conv2D, keras.layers.SeparableConv2D)):\n",
    "        print(layer.name)"
   ]
  },
  {
   "cell_type": "code",
   "execution_count": 10,
   "id": "0e6c571f",
   "metadata": {},
   "outputs": [],
   "source": [
    "import numpy as np\n",
    "img_path = keras.utils.get_file(fname=\"cat.jpg\", origin=\"https://img-datasets.s3.amazonaws.com/cat.jpg\")\n",
    "def get_img_array(img_path, target_size):\n",
    "    img = keras.utils.load_img(img_path, target_size=target_size)\n",
    "    array = keras.utils.img_to_array(img)\n",
    "    array = np.expand_dims(array, axis=0)\n",
    "    return array\n",
    "\n",
    "img_tensor = get_img_array(img_path, target_size=(180, 180))"
   ]
  },
  {
   "cell_type": "code",
   "execution_count": 11,
   "id": "a8e75141",
   "metadata": {},
   "outputs": [],
   "source": [
    "layer_name = \"block3_sepconv1\"\n",
    "layer = model.get_layer(name=layer_name)\n",
    "feature_extractor = keras.Model(inputs=model.input, outputs=layer.output)\n",
    "activation = feature_extractor(keras.applications.xception.preprocess_input(img_tensor))"
   ]
  },
  {
   "cell_type": "code",
   "execution_count": 12,
   "id": "5e28c2c1",
   "metadata": {},
   "outputs": [],
   "source": [
    "import tensorflow as tf\n",
    "\n",
    "def compute_loss(image, filter_index):\n",
    "    activation = feature_extractor(image)\n",
    "    filter_activation = activation[:,2:-2, 2:-2, filter_index]\n",
    "    return tf.reduce_mean(filter_activation)"
   ]
  },
  {
   "cell_type": "code",
   "execution_count": 13,
   "id": "cbf9d833",
   "metadata": {},
   "outputs": [],
   "source": [
    "@tf.function\n",
    "def gradient_ascent_step(image, filter_index, learning_rate):\n",
    "    with tf.GraientTape() as tape:\n",
    "        tape.watch(image)\n",
    "        loss = compute_loss(image, filter_index)\n",
    "    grads = tape.gradient(loss, image)\n",
    "    grads = tf.math.l2_normalize(grads)\n",
    "    image += learning_rate * grads\n",
    "    return(image)"
   ]
  },
  {
   "cell_type": "code",
   "execution_count": null,
   "id": "1a6fcd1f",
   "metadata": {},
   "outputs": [],
   "source": []
  }
 ],
 "metadata": {
  "kernelspec": {
   "display_name": "Python 3 (ipykernel)",
   "language": "python",
   "name": "python3"
  },
  "language_info": {
   "codemirror_mode": {
    "name": "ipython",
    "version": 3
   },
   "file_extension": ".py",
   "mimetype": "text/x-python",
   "name": "python",
   "nbconvert_exporter": "python",
   "pygments_lexer": "ipython3",
   "version": "3.9.7"
  }
 },
 "nbformat": 4,
 "nbformat_minor": 5
}
