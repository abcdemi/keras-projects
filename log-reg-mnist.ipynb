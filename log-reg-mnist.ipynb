{
 "cells": [
  {
   "cell_type": "code",
   "execution_count": 1,
   "id": "9543e7ba",
   "metadata": {},
   "outputs": [],
   "source": [
    "from keras import models, layers"
   ]
  },
  {
   "cell_type": "code",
   "execution_count": 5,
   "id": "5474a860",
   "metadata": {},
   "outputs": [],
   "source": [
    "from keras.datasets import mnist"
   ]
  },
  {
   "cell_type": "code",
   "execution_count": 6,
   "id": "f65412e0",
   "metadata": {},
   "outputs": [],
   "source": [
    "(train_images, train_labels), (test_images, test_labels) = mnist.load_data()"
   ]
  },
  {
   "cell_type": "code",
   "execution_count": 7,
   "id": "68a08242",
   "metadata": {},
   "outputs": [],
   "source": [
    "train_images = train_images.reshape((60000, 28 * 28))\n",
    "train_images = train_images.astype('float32') / 255\n",
    "test_images = test_images.reshape((10000, 28 * 28))\n",
    "test_images = test_images.astype('float32') / 255"
   ]
  },
  {
   "cell_type": "code",
   "execution_count": 8,
   "id": "fd542e2a",
   "metadata": {},
   "outputs": [],
   "source": [
    "model = models.Sequential([layers.Dense(10, activation=\"softmax\")])"
   ]
  },
  {
   "cell_type": "code",
   "execution_count": 9,
   "id": "19f6432e",
   "metadata": {},
   "outputs": [
    {
     "name": "stdout",
     "output_type": "stream",
     "text": [
      "Epoch 1/20\n",
      "375/375 [==============================] - 1s 967us/step - loss: 0.6518 - accuracy: 0.8446 - val_loss: 0.3572 - val_accuracy: 0.9017\n",
      "Epoch 2/20\n",
      "375/375 [==============================] - 0s 677us/step - loss: 0.3502 - accuracy: 0.9039 - val_loss: 0.3060 - val_accuracy: 0.9155\n",
      "Epoch 3/20\n",
      "375/375 [==============================] - 0s 671us/step - loss: 0.3152 - accuracy: 0.9121 - val_loss: 0.2886 - val_accuracy: 0.9204\n",
      "Epoch 4/20\n",
      "375/375 [==============================] - 0s 669us/step - loss: 0.2990 - accuracy: 0.9164 - val_loss: 0.2809 - val_accuracy: 0.9230\n",
      "Epoch 5/20\n",
      "375/375 [==============================] - 0s 671us/step - loss: 0.2894 - accuracy: 0.9191 - val_loss: 0.2760 - val_accuracy: 0.9240\n",
      "Epoch 6/20\n",
      "375/375 [==============================] - 0s 672us/step - loss: 0.2832 - accuracy: 0.9206 - val_loss: 0.2721 - val_accuracy: 0.9259\n",
      "Epoch 7/20\n",
      "375/375 [==============================] - 0s 667us/step - loss: 0.2783 - accuracy: 0.9217 - val_loss: 0.2700 - val_accuracy: 0.9255\n",
      "Epoch 8/20\n",
      "375/375 [==============================] - 0s 669us/step - loss: 0.2742 - accuracy: 0.9229 - val_loss: 0.2675 - val_accuracy: 0.9262\n",
      "Epoch 9/20\n",
      "375/375 [==============================] - 0s 676us/step - loss: 0.2712 - accuracy: 0.9243 - val_loss: 0.2648 - val_accuracy: 0.9286\n",
      "Epoch 10/20\n",
      "375/375 [==============================] - 0s 675us/step - loss: 0.2684 - accuracy: 0.9255 - val_loss: 0.2635 - val_accuracy: 0.9278\n",
      "Epoch 11/20\n",
      "375/375 [==============================] - 0s 675us/step - loss: 0.2667 - accuracy: 0.9266 - val_loss: 0.2633 - val_accuracy: 0.9288\n",
      "Epoch 12/20\n",
      "375/375 [==============================] - 0s 675us/step - loss: 0.2651 - accuracy: 0.9269 - val_loss: 0.2642 - val_accuracy: 0.9286\n",
      "Epoch 13/20\n",
      "375/375 [==============================] - 0s 675us/step - loss: 0.2630 - accuracy: 0.9274 - val_loss: 0.2619 - val_accuracy: 0.9297\n",
      "Epoch 14/20\n",
      "375/375 [==============================] - 0s 669us/step - loss: 0.2621 - accuracy: 0.9272 - val_loss: 0.2615 - val_accuracy: 0.9290\n",
      "Epoch 15/20\n",
      "375/375 [==============================] - 0s 671us/step - loss: 0.2603 - accuracy: 0.9287 - val_loss: 0.2626 - val_accuracy: 0.9287\n",
      "Epoch 16/20\n",
      "375/375 [==============================] - 0s 670us/step - loss: 0.2597 - accuracy: 0.9291 - val_loss: 0.2608 - val_accuracy: 0.9297\n",
      "Epoch 17/20\n",
      "375/375 [==============================] - 0s 676us/step - loss: 0.2580 - accuracy: 0.9288 - val_loss: 0.2619 - val_accuracy: 0.9305\n",
      "Epoch 18/20\n",
      "375/375 [==============================] - 0s 671us/step - loss: 0.2571 - accuracy: 0.9292 - val_loss: 0.2620 - val_accuracy: 0.9297\n",
      "Epoch 19/20\n",
      "375/375 [==============================] - 0s 672us/step - loss: 0.2563 - accuracy: 0.9299 - val_loss: 0.2628 - val_accuracy: 0.9295\n",
      "Epoch 20/20\n",
      "375/375 [==============================] - 0s 674us/step - loss: 0.2556 - accuracy: 0.9303 - val_loss: 0.2607 - val_accuracy: 0.9304\n"
     ]
    }
   ],
   "source": [
    "model.compile(optimizer=\"rmsprop\", loss=\"sparse_categorical_crossentropy\", metrics=[\"accuracy\"])\n",
    "history_small_model = model.fit(train_images, train_labels, epochs=20, batch_size=128, validation_split=0.2)"
   ]
  },
  {
   "cell_type": "code",
   "execution_count": 10,
   "id": "0413d345",
   "metadata": {},
   "outputs": [],
   "source": [
    "import matplotlib.pyplot as plt"
   ]
  },
  {
   "cell_type": "code",
   "execution_count": 11,
   "id": "57b1f2ca",
   "metadata": {},
   "outputs": [
    {
     "data": {
      "text/plain": [
       "<matplotlib.legend.Legend at 0x1b775a8fbe0>"
      ]
     },
     "execution_count": 11,
     "metadata": {},
     "output_type": "execute_result"
    },
    {
     "data": {
      "image/png": "[encoded data removed]",
      "text/plain": [
       "<Figure size 432x288 with 1 Axes>"
      ]
     },
     "metadata": {
      "needs_background": "light"
     },
     "output_type": "display_data"
    }
   ],
   "source": [
    "val_loss = history_small_model.history[\"val_loss\"]\n",
    "epochs = range(1,21)\n",
    "plt.plot(epochs, val_loss, \"b--\", label=\"Validation loss\")\n",
    "plt.title(\"Effect of insufficient model capacity on validation loss\")\n",
    "plt.xlabel(\"Epochs\")\n",
    "plt.ylabel(\"Loss\")\n",
    "plt.legend()"
   ]
  },
  {
   "cell_type": "code",
   "execution_count": null,
   "id": "f8dcddbb",
   "metadata": {},
   "outputs": [],
   "source": []
  }
 ],
 "metadata": {
  "kernelspec": {
   "display_name": "Python 3 (ipykernel)",
   "language": "python",
   "name": "python3"
  },
  "language_info": {
   "codemirror_mode": {
    "name": "ipython",
    "version": 3
   },
   "file_extension": ".py",
   "mimetype": "text/x-python",
   "name": "python",
   "nbconvert_exporter": "python",
   "pygments_lexer": "ipython3",
   "version": "3.9.7"
  }
 },
 "nbformat": 4,
 "nbformat_minor": 5
}
